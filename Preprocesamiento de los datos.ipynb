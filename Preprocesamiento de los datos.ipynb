{
 "cells": [
  {
   "cell_type": "markdown",
   "id": "481efeef",
   "metadata": {},
   "source": [
    "## Preprocesamiento de los datos."
   ]
  },
  {
   "cell_type": "markdown",
   "id": "6268d8b4",
   "metadata": {},
   "source": [
    "Para lograr implementar cualquier modelo con éxito y resolver un problema, es importante realizar un preprocesamiento a los datos que se vayan a usar. Este proceso siempre se debe emplear porque los datos pueden estar sucios, contener ruido, datos faltantes, caracteres especiales, signos de puntuación, entre otras, los cuales no permitirán que el modelo sea entrenado correctamente. Por tal motivo, a continuación se efectúa el proceso de verificación, limpieza, transformación y división del conjunto para entrenamiento y pruebas"
   ]
  },
  {
   "cell_type": "code",
   "execution_count": 36,
   "id": "33f27019",
   "metadata": {},
   "outputs": [],
   "source": [
    "#Cargar librerias\n",
    "import pandas as pd\n",
    "import numpy as np\n",
    "import nltk \n",
    "import spacy\n",
    "from sklearn.feature_extraction.text import CountVectorizer\n",
    "from sklearn.feature_extraction.text import TfidfVectorizer\n",
    "from sklearn.preprocessing import LabelBinarizer\n",
    "from nltk.corpus import stopwords\n",
    "from bs4 import BeautifulSoup\n",
    "import re,string,unicodedata\n",
    "\n",
    "from nltk.tokenize import word_tokenize,sent_tokenize\n",
    "from nltk.tokenize.toktok import ToktokTokenizer\n",
    "\n",
    "import warnings\n",
    "warnings.filterwarnings('ignore')"
   ]
  },
  {
   "cell_type": "markdown",
   "id": "82de0786",
   "metadata": {},
   "source": [
    "\n",
    "El conjunto de datos que utilizara para el proceso de análisis de sentimientos en reseñas de películas, está conformado por 50 mil datos. El conjunto de datos está constituido por dos columnas (review, sentiment). Para cargar los datos, se utiliza la librería Pandas y se muestra los 10 primeros datos que contiene el datset. La columna review contiene información con datos sucios y ruidos. "
   ]
  },
  {
   "cell_type": "code",
   "execution_count": 24,
   "id": "fa327c7d",
   "metadata": {
    "scrolled": true
   },
   "outputs": [
    {
     "name": "stdout",
     "output_type": "stream",
     "text": [
      "(50000, 2)\n"
     ]
    },
    {
     "data": {
      "text/html": [
       "<div>\n",
       "<style scoped>\n",
       "    .dataframe tbody tr th:only-of-type {\n",
       "        vertical-align: middle;\n",
       "    }\n",
       "\n",
       "    .dataframe tbody tr th {\n",
       "        vertical-align: top;\n",
       "    }\n",
       "\n",
       "    .dataframe thead th {\n",
       "        text-align: right;\n",
       "    }\n",
       "</style>\n",
       "<table border=\"1\" class=\"dataframe\">\n",
       "  <thead>\n",
       "    <tr style=\"text-align: right;\">\n",
       "      <th></th>\n",
       "      <th>review</th>\n",
       "      <th>sentiment</th>\n",
       "    </tr>\n",
       "  </thead>\n",
       "  <tbody>\n",
       "    <tr>\n",
       "      <th>0</th>\n",
       "      <td>One of the other reviewers has mentioned that ...</td>\n",
       "      <td>positive</td>\n",
       "    </tr>\n",
       "    <tr>\n",
       "      <th>1</th>\n",
       "      <td>A wonderful little production. &lt;br /&gt;&lt;br /&gt;The...</td>\n",
       "      <td>positive</td>\n",
       "    </tr>\n",
       "    <tr>\n",
       "      <th>2</th>\n",
       "      <td>I thought this was a wonderful way to spend ti...</td>\n",
       "      <td>positive</td>\n",
       "    </tr>\n",
       "    <tr>\n",
       "      <th>3</th>\n",
       "      <td>Basically there's a family where a little boy ...</td>\n",
       "      <td>negative</td>\n",
       "    </tr>\n",
       "    <tr>\n",
       "      <th>4</th>\n",
       "      <td>Petter Mattei's \"Love in the Time of Money\" is...</td>\n",
       "      <td>positive</td>\n",
       "    </tr>\n",
       "    <tr>\n",
       "      <th>5</th>\n",
       "      <td>Probably my all-time favorite movie, a story o...</td>\n",
       "      <td>positive</td>\n",
       "    </tr>\n",
       "    <tr>\n",
       "      <th>6</th>\n",
       "      <td>I sure would like to see a resurrection of a u...</td>\n",
       "      <td>positive</td>\n",
       "    </tr>\n",
       "    <tr>\n",
       "      <th>7</th>\n",
       "      <td>This show was an amazing, fresh &amp; innovative i...</td>\n",
       "      <td>negative</td>\n",
       "    </tr>\n",
       "    <tr>\n",
       "      <th>8</th>\n",
       "      <td>Encouraged by the positive comments about this...</td>\n",
       "      <td>negative</td>\n",
       "    </tr>\n",
       "    <tr>\n",
       "      <th>9</th>\n",
       "      <td>If you like original gut wrenching laughter yo...</td>\n",
       "      <td>positive</td>\n",
       "    </tr>\n",
       "  </tbody>\n",
       "</table>\n",
       "</div>"
      ],
      "text/plain": [
       "                                              review sentiment\n",
       "0  One of the other reviewers has mentioned that ...  positive\n",
       "1  A wonderful little production. <br /><br />The...  positive\n",
       "2  I thought this was a wonderful way to spend ti...  positive\n",
       "3  Basically there's a family where a little boy ...  negative\n",
       "4  Petter Mattei's \"Love in the Time of Money\" is...  positive\n",
       "5  Probably my all-time favorite movie, a story o...  positive\n",
       "6  I sure would like to see a resurrection of a u...  positive\n",
       "7  This show was an amazing, fresh & innovative i...  negative\n",
       "8  Encouraged by the positive comments about this...  negative\n",
       "9  If you like original gut wrenching laughter yo...  positive"
      ]
     },
     "execution_count": 24,
     "metadata": {},
     "output_type": "execute_result"
    }
   ],
   "source": [
    "#Muestra los 10 primeros review\n",
    "data=pd.read_csv('IMDB Dataset.csv')\n",
    "print(data.shape)\n",
    "data.head(10)"
   ]
  },
  {
   "cell_type": "code",
   "execution_count": 25,
   "id": "a357b7b0",
   "metadata": {},
   "outputs": [
    {
     "data": {
      "text/plain": [
       "'Petter Mattei\\'s \"Love in the Time of Money\" is a visually stunning film to watch. Mr. Mattei offers us a vivid portrait about human relations. This is a movie that seems to be telling us what money, power and success do to people in the different situations we encounter. <br /><br />This being a variation on the Arthur Schnitzler\\'s play about the same theme, the director transfers the action to the present time New York where all these different characters meet and connect. Each one is connected in one way, or another to the next person, but no one seems to know the previous point of contact. Stylishly, the film has a sophisticated luxurious look. We are taken to see how these people live and the world they live in their own habitat.<br /><br />The only thing one gets out of all these souls in the picture is the different stages of loneliness each one inhabits. A big city is not exactly the best place in which human relations find sincere fulfillment, as one discerns is the case with most of the people we encounter.<br /><br />The acting is good under Mr. Mattei\\'s direction. Steve Buscemi, Rosario Dawson, Carol Kane, Michael Imperioli, Adrian Grenier, and the rest of the talented cast, make these characters come alive.<br /><br />We wish Mr. Mattei good luck and await anxiously for his next work.'"
      ]
     },
     "execution_count": 25,
     "metadata": {},
     "output_type": "execute_result"
    }
   ],
   "source": [
    "#Imprime el review que se encuentra en la posición 4 \n",
    "data['review'][4]"
   ]
  },
  {
   "cell_type": "markdown",
   "id": "675f848c",
   "metadata": {},
   "source": [
    "### Verificar y limpiar de datos"
   ]
  },
  {
   "cell_type": "markdown",
   "id": "ce9c3796",
   "metadata": {},
   "source": [
    "Una vez cargados los datos se verifica que el dataset no contenga valores nulos. Y para esto, se utiliza la función isnull para la comprobación. Esta función devolverá \"True\" si encuentra componentes faltantes y \"False\" para los componentes que no faltan. Finalmente, se contará todos los valores \"True\" y como se puede observar, el conteo dio 0, es decir, no existe valores nulos en todo el dataset. "
   ]
  },
  {
   "cell_type": "code",
   "execution_count": 26,
   "id": "ab149bcb",
   "metadata": {
    "scrolled": true
   },
   "outputs": [
    {
     "data": {
      "text/plain": [
       "review       0\n",
       "sentiment    0\n",
       "dtype: int64"
      ]
     },
     "execution_count": 26,
     "metadata": {},
     "output_type": "execute_result"
    }
   ],
   "source": [
    "#Se verifica si existe valores nullos en el dataset\n",
    "data.isnull().sum()"
   ]
  },
  {
   "cell_type": "markdown",
   "id": "51db1221",
   "metadata": {},
   "source": [
    "En las siguientes líneas de código se realiza el proceso de limpieza de los datos. Se desarrolla una función para eliminar cualquier elemento HTML que exista en los review. Otra función para eliminar expresiones regulares, como lo son corchetes, llaves, asteriscos, comillas, entre otros. También se elimina texto ruidoso y finalmente, la eliminación de caracteres especiales. "
   ]
  },
  {
   "cell_type": "code",
   "execution_count": 27,
   "id": "e44b751a",
   "metadata": {},
   "outputs": [],
   "source": [
    "#Eliminar etiquetas de HTML \n",
    "def strip_html(text):\n",
    "    soup = BeautifulSoup(text, \"html.parser\")\n",
    "    return soup.get_text()\n",
    "\n",
    "#Eliminar algunas expresiones\n",
    "def remove_between_square_brackets(text):\n",
    "    return re.sub('\\[[^]]*\\]', '', text)\n",
    "\n",
    "#Elimina texto ruidoso\n",
    "def denoise_text(text):\n",
    "    text = strip_html(text)\n",
    "    text = remove_between_square_brackets(text)\n",
    "    return text\n",
    "\n",
    "#Aplicar la función denoise_text en la columna de review\n",
    "data['review']=data['review'].apply(denoise_text)\n",
    "\n",
    "#---------------------------------------------\n",
    "\n",
    "#Remueve caracteres especiales\n",
    "def remove_special_characters(text, remove_digits=True):\n",
    "    pattern=r'[^a-zA-z0-9\\s]'\n",
    "    text=re.sub(pattern,'',text)\n",
    "    return text\n",
    "\n",
    "#Aplicar la función remove_special_characters en la columna review\n",
    "data['review']=data['review'].apply(remove_special_characters)"
   ]
  },
  {
   "cell_type": "code",
   "execution_count": 28,
   "id": "76a92530",
   "metadata": {
    "scrolled": false
   },
   "outputs": [
    {
     "data": {
      "text/plain": [
       "'Petter Matteis Love in the Time of Money is a visually stunning film to watch Mr Mattei offers us a vivid portrait about human relations This is a movie that seems to be telling us what money power and success do to people in the different situations we encounter This being a variation on the Arthur Schnitzlers play about the same theme the director transfers the action to the present time New York where all these different characters meet and connect Each one is connected in one way or another to the next person but no one seems to know the previous point of contact Stylishly the film has a sophisticated luxurious look We are taken to see how these people live and the world they live in their own habitatThe only thing one gets out of all these souls in the picture is the different stages of loneliness each one inhabits A big city is not exactly the best place in which human relations find sincere fulfillment as one discerns is the case with most of the people we encounterThe acting is good under Mr Matteis direction Steve Buscemi Rosario Dawson Carol Kane Michael Imperioli Adrian Grenier and the rest of the talented cast make these characters come aliveWe wish Mr Mattei good luck and await anxiously for his next work'"
      ]
     },
     "execution_count": 28,
     "metadata": {},
     "output_type": "execute_result"
    }
   ],
   "source": [
    "#Se verifica que los datos esten limpios\n",
    "data['review'][4]"
   ]
  },
  {
   "cell_type": "code",
   "execution_count": 29,
   "id": "1d8359b5",
   "metadata": {},
   "outputs": [
    {
     "data": {
      "text/html": [
       "<div>\n",
       "<style scoped>\n",
       "    .dataframe tbody tr th:only-of-type {\n",
       "        vertical-align: middle;\n",
       "    }\n",
       "\n",
       "    .dataframe tbody tr th {\n",
       "        vertical-align: top;\n",
       "    }\n",
       "\n",
       "    .dataframe thead th {\n",
       "        text-align: right;\n",
       "    }\n",
       "</style>\n",
       "<table border=\"1\" class=\"dataframe\">\n",
       "  <thead>\n",
       "    <tr style=\"text-align: right;\">\n",
       "      <th></th>\n",
       "      <th>review</th>\n",
       "      <th>sentiment</th>\n",
       "    </tr>\n",
       "  </thead>\n",
       "  <tbody>\n",
       "    <tr>\n",
       "      <th>0</th>\n",
       "      <td>One of the other reviewers has mentioned that ...</td>\n",
       "      <td>positive</td>\n",
       "    </tr>\n",
       "    <tr>\n",
       "      <th>1</th>\n",
       "      <td>A wonderful little production The filming tech...</td>\n",
       "      <td>positive</td>\n",
       "    </tr>\n",
       "    <tr>\n",
       "      <th>2</th>\n",
       "      <td>I thought this was a wonderful way to spend ti...</td>\n",
       "      <td>positive</td>\n",
       "    </tr>\n",
       "    <tr>\n",
       "      <th>3</th>\n",
       "      <td>Basically theres a family where a little boy J...</td>\n",
       "      <td>negative</td>\n",
       "    </tr>\n",
       "    <tr>\n",
       "      <th>4</th>\n",
       "      <td>Petter Matteis Love in the Time of Money is a ...</td>\n",
       "      <td>positive</td>\n",
       "    </tr>\n",
       "    <tr>\n",
       "      <th>5</th>\n",
       "      <td>Probably my alltime favorite movie a story of ...</td>\n",
       "      <td>positive</td>\n",
       "    </tr>\n",
       "    <tr>\n",
       "      <th>6</th>\n",
       "      <td>I sure would like to see a resurrection of a u...</td>\n",
       "      <td>positive</td>\n",
       "    </tr>\n",
       "    <tr>\n",
       "      <th>7</th>\n",
       "      <td>This show was an amazing fresh  innovative ide...</td>\n",
       "      <td>negative</td>\n",
       "    </tr>\n",
       "    <tr>\n",
       "      <th>8</th>\n",
       "      <td>Encouraged by the positive comments about this...</td>\n",
       "      <td>negative</td>\n",
       "    </tr>\n",
       "    <tr>\n",
       "      <th>9</th>\n",
       "      <td>If you like original gut wrenching laughter yo...</td>\n",
       "      <td>positive</td>\n",
       "    </tr>\n",
       "  </tbody>\n",
       "</table>\n",
       "</div>"
      ],
      "text/plain": [
       "                                              review sentiment\n",
       "0  One of the other reviewers has mentioned that ...  positive\n",
       "1  A wonderful little production The filming tech...  positive\n",
       "2  I thought this was a wonderful way to spend ti...  positive\n",
       "3  Basically theres a family where a little boy J...  negative\n",
       "4  Petter Matteis Love in the Time of Money is a ...  positive\n",
       "5  Probably my alltime favorite movie a story of ...  positive\n",
       "6  I sure would like to see a resurrection of a u...  positive\n",
       "7  This show was an amazing fresh  innovative ide...  negative\n",
       "8  Encouraged by the positive comments about this...  negative\n",
       "9  If you like original gut wrenching laughter yo...  positive"
      ]
     },
     "execution_count": 29,
     "metadata": {},
     "output_type": "execute_result"
    }
   ],
   "source": [
    "data.head(10)"
   ]
  },
  {
   "cell_type": "markdown",
   "id": "bd2ecc8a",
   "metadata": {},
   "source": [
    "### Tokenizar"
   ]
  },
  {
   "cell_type": "markdown",
   "id": "6aaf9de4",
   "metadata": {},
   "source": [
    "La tokenización sirve para encontrar y comprender patrones en el texto, el cual es útil para realizar el proceso de análisis de sentimiento. Este proceso es base para derivación y lematización del texto. Por tal motivo, en la siguiente línea de código se emplea el token y se configura las palabras vacías en el idioma en inglés."
   ]
  },
  {
   "cell_type": "code",
   "execution_count": 30,
   "id": "5d4f0ec6",
   "metadata": {},
   "outputs": [],
   "source": [
    "#Tokenización de texto\n",
    "tokenizer=ToktokTokenizer()\n",
    "#Configuración de palabras vacías en inglés\n",
    "stopword_list=nltk.corpus.stopwords.words('english')"
   ]
  },
  {
   "cell_type": "markdown",
   "id": "fd535ed0",
   "metadata": {},
   "source": [
    "### Stemming "
   ]
  },
  {
   "cell_type": "markdown",
   "id": "6bb7535a",
   "metadata": {},
   "source": [
    "La implementación del Stemming se encarga de reducir las palabras a su raíz. Y es útil para asignar varias palabras a una palabra base en específico, esto no solo se hace con palabras, sino también con oraciones. Por tal motivo, en la siguiente línea de código se emplea Steamming en el texto.  "
   ]
  },
  {
   "cell_type": "code",
   "execution_count": 31,
   "id": "1555389a",
   "metadata": {},
   "outputs": [],
   "source": [
    "#Stemming del texto\n",
    "def simple_stemmer(text):\n",
    "    ps=nltk.porter.PorterStemmer()\n",
    "    text= ' '.join([ps.stem(word) for word in text.split()])\n",
    "    return text\n",
    "#Aplicar la función en la columna review \n",
    "data['review']=data['review'].apply(simple_stemmer) "
   ]
  },
  {
   "cell_type": "markdown",
   "id": "5a8f364d",
   "metadata": {},
   "source": [
    "### Eliminar palabras varias "
   ]
  },
  {
   "cell_type": "markdown",
   "id": "c109f9af",
   "metadata": {},
   "source": [
    "Con el proceso de tokenización, se desarrolla una función que elimina todas las palabras vacias y se aplica el metodo en la columna review. "
   ]
  },
  {
   "cell_type": "code",
   "execution_count": 32,
   "id": "349e8a98",
   "metadata": {},
   "outputs": [
    {
     "name": "stdout",
     "output_type": "stream",
     "text": [
      "{'any', 'their', 'don', 'ma', 'will', 'hers', 'll', \"hasn't\", 'against', 'this', \"you'd\", \"won't\", 'being', 'aren', 'yourselves', 'too', \"isn't\", 'then', \"doesn't\", 'both', 'can', 'is', 'they', 'there', 'haven', 'not', \"it's\", 're', 'through', 'do', \"should've\", 'ain', 'shouldn', 'has', 'other', 'of', 'her', 'weren', \"you've\", 'when', 'further', 'and', 'needn', \"needn't\", 'as', 'for', 'these', 'all', 'd', \"that'll\", \"couldn't\", 'here', 'down', 'if', \"shan't\", 'on', 'out', 'whom', \"haven't\", 'mustn', 'you', 'just', \"mustn't\", 'doesn', 'are', 'shan', \"wouldn't\", 'after', 'wouldn', 'because', 'no', 'hadn', \"didn't\", 'few', 'should', 'them', 'from', 'again', 'that', 'did', \"hadn't\", 'themselves', 'how', 'the', 'been', 'she', 've', 'each', 'hasn', 'couldn', 'or', 'm', \"aren't\", 'it', 'isn', 'off', 'him', 'your', 'be', 'why', 'ourselves', 'mightn', 'was', 'himself', 'to', 'below', 'during', \"she's\", 'while', 'y', 'before', 'so', \"weren't\", 'only', 'yours', 'some', 'my', 'which', 'i', 'theirs', 'than', 'wasn', 'those', 'yourself', 'up', 'who', 'doing', 'he', 'where', 'once', 'with', 'what', 'o', 'having', 'but', 'ours', 'our', 'its', 'had', \"you're\", 'am', 'own', 'now', 'his', 'me', 'have', 'under', \"shouldn't\", 'by', 'between', 'at', 't', 'an', 's', 'very', \"wasn't\", 'didn', 'herself', 'nor', 'itself', 'does', 'we', \"you'll\", 'more', 'were', 'myself', 'won', 'above', 'same', 'a', 'into', \"don't\", 'most', 'in', 'until', 'about', \"mightn't\", 'over', 'such'}\n"
     ]
    }
   ],
   "source": [
    "#establecer palabras vacías en inglés\n",
    "stop=set(stopwords.words('english'))\n",
    "print(stop)\n",
    "\n",
    "#eliminando las palabras vacías \n",
    "def remove_stopwords(text, is_lower_case=False):\n",
    "    tokens = tokenizer.tokenize(text)\n",
    "    tokens = [token.strip() for token in tokens]\n",
    "    \n",
    "    if is_lower_case:\n",
    "        filtered_tokens = [token for token in tokens if token not in stopword_list]\n",
    "    else:\n",
    "        filtered_tokens = [token for token in tokens if token.lower() not in stopword_list]\n",
    "    filtered_text = ' '.join(filtered_tokens)    \n",
    "    return filtered_text\n",
    "\n",
    "#Aplicar la función \n",
    "data['review']=data['review'].apply(remove_stopwords)"
   ]
  },
  {
   "cell_type": "markdown",
   "id": "5f2086c0",
   "metadata": {},
   "source": [
    "### Normalización "
   ]
  },
  {
   "cell_type": "markdown",
   "id": "7d7a740b",
   "metadata": {},
   "source": [
    "Una vez terminado el proceso de limpieza de los datos, se emplea la normalización, es decir, estandariza todos los datos a un solo nive (palabras en minusculas) "
   ]
  },
  {
   "cell_type": "code",
   "execution_count": 33,
   "id": "031b6867",
   "metadata": {},
   "outputs": [
    {
     "data": {
      "text/plain": [
       "'petter mattei love time money visual stun film watch mr mattei offer us vivid portrait human relat thi movi seem tell us money power success peopl differ situat encount thi variat arthur schnitzler play theme director transfer action present time new york differ charact meet connect one connect one way anoth next person one seem know previou point contact stylishli film ha sophist luxuri look taken see peopl live world live habitatth onli thing one get soul pictur differ stage loneli one inhabit big citi exactli best place human relat find sincer fulfil one discern case peopl encounterth act good mr mattei direct steve buscemi rosario dawson carol kane michael imperioli adrian grenier rest talent cast make charact come alivew wish mr mattei good luck await anxious hi next work'"
      ]
     },
     "execution_count": 33,
     "metadata": {},
     "output_type": "execute_result"
    }
   ],
   "source": [
    "#nornalizar los reviews \n",
    "norm_reviews=data.review\n",
    "norm_reviews[4] "
   ]
  },
  {
   "cell_type": "markdown",
   "id": "82312f60",
   "metadata": {},
   "source": [
    "### Modelo Bags of words\n"
   ]
  },
  {
   "cell_type": "markdown",
   "id": "b9a4e7db",
   "metadata": {},
   "source": [
    "Para realizar análisis de sentimiento se necesita crear una bolsa de palabras. El modelo Bag of Words es utilizado para representar los datos de prueba. Este método es empleado para PLN y IR. Para implementar este modelo se genera un vector de bolsas de palabras y después se hace un ajuste de los datos. "
   ]
  },
  {
   "cell_type": "code",
   "execution_count": 41,
   "id": "89a9cc59",
   "metadata": {
    "scrolled": false
   },
   "outputs": [],
   "source": [
    "#Contar vectorizador para bolsa de palabras\n",
    "cv=CountVectorizer(min_df=0,max_df=1,binary=False,ngram_range=(1,3))\n",
    "\n",
    "#Transformar datos\n",
    "cv_reviews=cv.fit_transform(norm_reviews)\n"
   ]
  },
  {
   "cell_type": "markdown",
   "id": "90694661",
   "metadata": {},
   "source": [
    "### Transformación del etiquetado a datos binarios "
   ]
  },
  {
   "cell_type": "markdown",
   "id": "1b08d9ab",
   "metadata": {},
   "source": [
    "Una vez ya procesado los datos pertenecientes a la columna review, ahora solo falta la columna sentiment. En el caso de este dataset, la columna sentiment únicamente tiene dos valores: positive, negative. Y como tal, estos valores se los pueden convertir en números binarios, en donde el 0 representa a los negativos y el 1 a los positivos. La función LabelBinariser hace este proceso de binarización. "
   ]
  },
  {
   "cell_type": "code",
   "execution_count": 42,
   "id": "b9972712",
   "metadata": {},
   "outputs": [
    {
     "name": "stdout",
     "output_type": "stream",
     "text": [
      "(50000,)\n"
     ]
    },
    {
     "data": {
      "text/html": [
       "<div>\n",
       "<style scoped>\n",
       "    .dataframe tbody tr th:only-of-type {\n",
       "        vertical-align: middle;\n",
       "    }\n",
       "\n",
       "    .dataframe tbody tr th {\n",
       "        vertical-align: top;\n",
       "    }\n",
       "\n",
       "    .dataframe thead th {\n",
       "        text-align: right;\n",
       "    }\n",
       "</style>\n",
       "<table border=\"1\" class=\"dataframe\">\n",
       "  <thead>\n",
       "    <tr style=\"text-align: right;\">\n",
       "      <th></th>\n",
       "      <th>review</th>\n",
       "      <th>sentiment</th>\n",
       "    </tr>\n",
       "  </thead>\n",
       "  <tbody>\n",
       "    <tr>\n",
       "      <th>0</th>\n",
       "      <td>one review ha mention watch 1 oz episod youll ...</td>\n",
       "      <td>1</td>\n",
       "    </tr>\n",
       "    <tr>\n",
       "      <th>1</th>\n",
       "      <td>wonder littl product film techniqu veri unassu...</td>\n",
       "      <td>1</td>\n",
       "    </tr>\n",
       "    <tr>\n",
       "      <th>2</th>\n",
       "      <td>thought thi wa wonder way spend time hot summe...</td>\n",
       "      <td>1</td>\n",
       "    </tr>\n",
       "    <tr>\n",
       "      <th>3</th>\n",
       "      <td>basic famili littl boy jake think zombi hi clo...</td>\n",
       "      <td>0</td>\n",
       "    </tr>\n",
       "    <tr>\n",
       "      <th>4</th>\n",
       "      <td>petter mattei love time money visual stun film...</td>\n",
       "      <td>1</td>\n",
       "    </tr>\n",
       "    <tr>\n",
       "      <th>5</th>\n",
       "      <td>probabl alltim favorit movi stori selfless sac...</td>\n",
       "      <td>1</td>\n",
       "    </tr>\n",
       "    <tr>\n",
       "      <th>6</th>\n",
       "      <td>sure would like see resurrect date seahunt ser...</td>\n",
       "      <td>1</td>\n",
       "    </tr>\n",
       "    <tr>\n",
       "      <th>7</th>\n",
       "      <td>thi show wa amaz fresh innov idea 70 first air...</td>\n",
       "      <td>0</td>\n",
       "    </tr>\n",
       "    <tr>\n",
       "      <th>8</th>\n",
       "      <td>encourag posit comment thi film wa look forwar...</td>\n",
       "      <td>0</td>\n",
       "    </tr>\n",
       "    <tr>\n",
       "      <th>9</th>\n",
       "      <td>like origin gut wrench laughter like thi movi ...</td>\n",
       "      <td>1</td>\n",
       "    </tr>\n",
       "  </tbody>\n",
       "</table>\n",
       "</div>"
      ],
      "text/plain": [
       "                                              review  sentiment\n",
       "0  one review ha mention watch 1 oz episod youll ...          1\n",
       "1  wonder littl product film techniqu veri unassu...          1\n",
       "2  thought thi wa wonder way spend time hot summe...          1\n",
       "3  basic famili littl boy jake think zombi hi clo...          0\n",
       "4  petter mattei love time money visual stun film...          1\n",
       "5  probabl alltim favorit movi stori selfless sac...          1\n",
       "6  sure would like see resurrect date seahunt ser...          1\n",
       "7  thi show wa amaz fresh innov idea 70 first air...          0\n",
       "8  encourag posit comment thi film wa look forwar...          0\n",
       "9  like origin gut wrench laughter like thi movi ...          1"
      ]
     },
     "execution_count": 42,
     "metadata": {},
     "output_type": "execute_result"
    }
   ],
   "source": [
    "#Función para convertir en binarios\n",
    "lb=LabelBinarizer()\n",
    "\n",
    "#transformación de los datos \n",
    "data['sentiment']=lb.fit_transform(data['sentiment'])\n",
    "sentiment_data = data['sentiment']\n",
    "print(sentiment_data.shape)\n",
    "#Datos Limpios\n",
    "data.head(10)"
   ]
  },
  {
   "cell_type": "code",
   "execution_count": 43,
   "id": "0bd88a67",
   "metadata": {},
   "outputs": [],
   "source": [
    "ruta = \"review_limpios.csv\"\n",
    "#data.to_csv(ruta)"
   ]
  },
  {
   "cell_type": "markdown",
   "id": "29658604",
   "metadata": {},
   "source": [
    "Ya terminada la limpieza y transformación de los datos, se procede a dividir el conjunto en datos de entrenamiento y datos para las pruebas. El conjunto de entrenamiento contiene 35 000 revisiones (70 % de los datos) destinadas al entrenamiento y el conjunto de prueba tiene 15 000 revisiones (30 % de los datos) para probar el clasificador."
   ]
  },
  {
   "cell_type": "markdown",
   "id": "5bf51b1c",
   "metadata": {},
   "source": [
    "### Dividir el conjunto"
   ]
  },
  {
   "cell_type": "code",
   "execution_count": 44,
   "id": "7923daf7",
   "metadata": {},
   "outputs": [],
   "source": [
    "#Dividir el dataset en datos de entrenamiento y prueba \n",
    "X_train_reviews = cv_reviews[:35000]\n",
    "Y_train_sentiments = sentiment_data[:35000]\n",
    "\n",
    "X_test_reviews = cv_reviews[35000:]\n",
    "Y_test_sentiments = sentiment_data[35000:]\n"
   ]
  },
  {
   "cell_type": "markdown",
   "id": "9cd6765d",
   "metadata": {},
   "source": [
    "El proceso de clasificación de características no se lo realiza porque el dataset solamente tiene una sola característica."
   ]
  }
 ],
 "metadata": {
  "kernelspec": {
   "display_name": "Python 3 (ipykernel)",
   "language": "python",
   "name": "python3"
  },
  "language_info": {
   "codemirror_mode": {
    "name": "ipython",
    "version": 3
   },
   "file_extension": ".py",
   "mimetype": "text/x-python",
   "name": "python",
   "nbconvert_exporter": "python",
   "pygments_lexer": "ipython3",
   "version": "3.10.0"
  }
 },
 "nbformat": 4,
 "nbformat_minor": 5
}
