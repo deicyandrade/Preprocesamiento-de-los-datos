{
 "cells": [
  {
   "cell_type": "markdown",
   "id": "8cca4237",
   "metadata": {},
   "source": [
    "## Proceso de limpieza y normalización de datset IMDB Movie Reviews"
   ]
  },
  {
   "cell_type": "markdown",
   "id": "f45d2ea4",
   "metadata": {},
   "source": [
    "Para lograr implementar cualquier modelo con éxito y resolver un problema, es importante realizar un preprocesamiento a los datos que se vayan a usar. Este proceso siempre se debe emplear porque los datos pueden estar sucios, contener ruido, datos faltantes, caracteres especiales, signos de puntuación, entre otras, los cuales no permitirán que el modelo sea entrenado correctamente. Por tal motivo, a continuación se efectúa el proceso de verificación, limpieza, transformación y división del conjunto para entrenamiento y pruebas"
   ]
  },
  {
   "cell_type": "code",
   "execution_count": 27,
   "id": "33f27019",
   "metadata": {},
   "outputs": [],
   "source": [
    "#Cargar librerias\n",
    "import pandas as pd\n",
    "import numpy as np\n",
    "import nltk \n",
    "from sklearn.feature_extraction.text import CountVectorizer\n",
    "from sklearn.feature_extraction.text import TfidfVectorizer\n",
    "from sklearn.preprocessing import LabelBinarizer\n",
    "from nltk.corpus import stopwords\n",
    "from bs4 import BeautifulSoup\n",
    "import re,string,unicodedata\n",
    "\n",
    "from nltk.tokenize import word_tokenize,sent_tokenize\n",
    "from nltk.tokenize.toktok import ToktokTokenizer\n",
    "\n",
    "import warnings\n",
    "warnings.filterwarnings('ignore')"
   ]
  },
  {
   "cell_type": "markdown",
   "id": "b5b74cd7",
   "metadata": {},
   "source": [
    "\n",
    "El conjunto de datos que utilizara para el proceso de análisis de sentimientos en reseñas de películas, está conformado por 50 mil datos. El conjunto de datos está constituido por dos columnas (review, sentiment). Para cargar los datos, se utiliza la librería Pandas y se muestra los 10 primeros datos que contiene el datset. La columna review contiene información con datos sucios y ruidos. "
   ]
  },
  {
   "cell_type": "code",
   "execution_count": 3,
   "id": "fa327c7d",
   "metadata": {
    "scrolled": true
   },
   "outputs": [
    {
     "name": "stdout",
     "output_type": "stream",
     "text": [
      "(50000, 2)\n"
     ]
    },
    {
     "data": {
      "text/html": [
       "<div>\n",
       "<style scoped>\n",
       "    .dataframe tbody tr th:only-of-type {\n",
       "        vertical-align: middle;\n",
       "    }\n",
       "\n",
       "    .dataframe tbody tr th {\n",
       "        vertical-align: top;\n",
       "    }\n",
       "\n",
       "    .dataframe thead th {\n",
       "        text-align: right;\n",
       "    }\n",
       "</style>\n",
       "<table border=\"1\" class=\"dataframe\">\n",
       "  <thead>\n",
       "    <tr style=\"text-align: right;\">\n",
       "      <th></th>\n",
       "      <th>review</th>\n",
       "      <th>sentiment</th>\n",
       "    </tr>\n",
       "  </thead>\n",
       "  <tbody>\n",
       "    <tr>\n",
       "      <th>0</th>\n",
       "      <td>One of the other reviewers has mentioned that ...</td>\n",
       "      <td>positive</td>\n",
       "    </tr>\n",
       "    <tr>\n",
       "      <th>1</th>\n",
       "      <td>A wonderful little production. &lt;br /&gt;&lt;br /&gt;The...</td>\n",
       "      <td>positive</td>\n",
       "    </tr>\n",
       "    <tr>\n",
       "      <th>2</th>\n",
       "      <td>I thought this was a wonderful way to spend ti...</td>\n",
       "      <td>positive</td>\n",
       "    </tr>\n",
       "    <tr>\n",
       "      <th>3</th>\n",
       "      <td>Basically there's a family where a little boy ...</td>\n",
       "      <td>negative</td>\n",
       "    </tr>\n",
       "    <tr>\n",
       "      <th>4</th>\n",
       "      <td>Petter Mattei's \"Love in the Time of Money\" is...</td>\n",
       "      <td>positive</td>\n",
       "    </tr>\n",
       "    <tr>\n",
       "      <th>5</th>\n",
       "      <td>Probably my all-time favorite movie, a story o...</td>\n",
       "      <td>positive</td>\n",
       "    </tr>\n",
       "    <tr>\n",
       "      <th>6</th>\n",
       "      <td>I sure would like to see a resurrection of a u...</td>\n",
       "      <td>positive</td>\n",
       "    </tr>\n",
       "    <tr>\n",
       "      <th>7</th>\n",
       "      <td>This show was an amazing, fresh &amp; innovative i...</td>\n",
       "      <td>negative</td>\n",
       "    </tr>\n",
       "    <tr>\n",
       "      <th>8</th>\n",
       "      <td>Encouraged by the positive comments about this...</td>\n",
       "      <td>negative</td>\n",
       "    </tr>\n",
       "    <tr>\n",
       "      <th>9</th>\n",
       "      <td>If you like original gut wrenching laughter yo...</td>\n",
       "      <td>positive</td>\n",
       "    </tr>\n",
       "  </tbody>\n",
       "</table>\n",
       "</div>"
      ],
      "text/plain": [
       "                                              review sentiment\n",
       "0  One of the other reviewers has mentioned that ...  positive\n",
       "1  A wonderful little production. <br /><br />The...  positive\n",
       "2  I thought this was a wonderful way to spend ti...  positive\n",
       "3  Basically there's a family where a little boy ...  negative\n",
       "4  Petter Mattei's \"Love in the Time of Money\" is...  positive\n",
       "5  Probably my all-time favorite movie, a story o...  positive\n",
       "6  I sure would like to see a resurrection of a u...  positive\n",
       "7  This show was an amazing, fresh & innovative i...  negative\n",
       "8  Encouraged by the positive comments about this...  negative\n",
       "9  If you like original gut wrenching laughter yo...  positive"
      ]
     },
     "execution_count": 3,
     "metadata": {},
     "output_type": "execute_result"
    }
   ],
   "source": [
    "#Muestra los 10 primeros review\n",
    "data=pd.read_csv('IMDB Dataset.csv')\n",
    "print(data.shape)\n",
    "data.head(10)"
   ]
  },
  {
   "cell_type": "code",
   "execution_count": 4,
   "id": "a357b7b0",
   "metadata": {},
   "outputs": [
    {
     "data": {
      "text/plain": [
       "'Petter Mattei\\'s \"Love in the Time of Money\" is a visually stunning film to watch. Mr. Mattei offers us a vivid portrait about human relations. This is a movie that seems to be telling us what money, power and success do to people in the different situations we encounter. <br /><br />This being a variation on the Arthur Schnitzler\\'s play about the same theme, the director transfers the action to the present time New York where all these different characters meet and connect. Each one is connected in one way, or another to the next person, but no one seems to know the previous point of contact. Stylishly, the film has a sophisticated luxurious look. We are taken to see how these people live and the world they live in their own habitat.<br /><br />The only thing one gets out of all these souls in the picture is the different stages of loneliness each one inhabits. A big city is not exactly the best place in which human relations find sincere fulfillment, as one discerns is the case with most of the people we encounter.<br /><br />The acting is good under Mr. Mattei\\'s direction. Steve Buscemi, Rosario Dawson, Carol Kane, Michael Imperioli, Adrian Grenier, and the rest of the talented cast, make these characters come alive.<br /><br />We wish Mr. Mattei good luck and await anxiously for his next work.'"
      ]
     },
     "execution_count": 4,
     "metadata": {},
     "output_type": "execute_result"
    }
   ],
   "source": [
    "#Imprime el review que se encuentra en la posición 4 \n",
    "data['review'][4]"
   ]
  },
  {
   "cell_type": "markdown",
   "id": "675f848c",
   "metadata": {},
   "source": [
    "### Verificar y limpiar de datos"
   ]
  },
  {
   "cell_type": "markdown",
   "id": "68b79593",
   "metadata": {},
   "source": [
    "Una vez cargados los datos se verifica que el dataset no contenga valores nulos. Y para esto, se utiliza la función isnull para la comprobación. Esta función devolverá \"True\" si encuentra componentes faltantes y \"False\" para los componentes que no faltan. Finalmente, se contará todos los valores \"True\" y como se puede observar, el conteo dio 0, es decir, no existe valores nulos en todo el dataset. "
   ]
  },
  {
   "cell_type": "code",
   "execution_count": 5,
   "id": "ab149bcb",
   "metadata": {
    "scrolled": true
   },
   "outputs": [
    {
     "data": {
      "text/plain": [
       "review       0\n",
       "sentiment    0\n",
       "dtype: int64"
      ]
     },
     "execution_count": 5,
     "metadata": {},
     "output_type": "execute_result"
    }
   ],
   "source": [
    "#Se verifica si existe valores nullos en el dataset\n",
    "data.isnull().sum()"
   ]
  },
  {
   "cell_type": "markdown",
   "id": "bf90e843",
   "metadata": {},
   "source": [
    "En las siguientes líneas de código se realiza el proceso de limpieza de los datos. Se desarrolla una función para eliminar cualquier elemento HTML que exista en los review. Otra función para eliminar expresiones regulares, como lo son corchetes, llaves, asteriscos, comillas, entre otros. También se elimina texto ruidoso y finalmente, la eliminación de caracteres especiales. "
   ]
  },
  {
   "cell_type": "code",
   "execution_count": 6,
   "id": "e44b751a",
   "metadata": {},
   "outputs": [],
   "source": [
    "#Eliminar etiquetas de HTML \n",
    "def strip_html(text):\n",
    "    soup = BeautifulSoup(text, \"html.parser\")\n",
    "    return soup.get_text()\n",
    "\n",
    "#Eliminar algunas expresiones\n",
    "def remove_between_square_brackets(text):\n",
    "    return re.sub('\\[[^]]*\\]', '', text)\n",
    "\n",
    "#Elimina texto ruidoso\n",
    "def denoise_text(text):\n",
    "    text = strip_html(text)\n",
    "    text = remove_between_square_brackets(text)\n",
    "    return text\n",
    "\n",
    "#Aplicar la función denoise_text en la columna de review\n",
    "data['review']=data['review'].apply(denoise_text)\n",
    "\n",
    "#---------------------------------------------\n",
    "\n",
    "#Remueve caracteres especiales\n",
    "def remove_special_characters(text, remove_digits=True):\n",
    "    pattern=r'[^a-zA-z0-9\\s]'\n",
    "    text=re.sub(pattern,'',text)\n",
    "    return text\n",
    "\n",
    "#Aplicar la función remove_special_characters en la columna review\n",
    "data['review']=data['review'].apply(remove_special_characters)"
   ]
  },
  {
   "cell_type": "code",
   "execution_count": 7,
   "id": "76a92530",
   "metadata": {
    "scrolled": true
   },
   "outputs": [
    {
     "data": {
      "text/plain": [
       "'Petter Matteis Love in the Time of Money is a visually stunning film to watch Mr Mattei offers us a vivid portrait about human relations This is a movie that seems to be telling us what money power and success do to people in the different situations we encounter This being a variation on the Arthur Schnitzlers play about the same theme the director transfers the action to the present time New York where all these different characters meet and connect Each one is connected in one way or another to the next person but no one seems to know the previous point of contact Stylishly the film has a sophisticated luxurious look We are taken to see how these people live and the world they live in their own habitatThe only thing one gets out of all these souls in the picture is the different stages of loneliness each one inhabits A big city is not exactly the best place in which human relations find sincere fulfillment as one discerns is the case with most of the people we encounterThe acting is good under Mr Matteis direction Steve Buscemi Rosario Dawson Carol Kane Michael Imperioli Adrian Grenier and the rest of the talented cast make these characters come aliveWe wish Mr Mattei good luck and await anxiously for his next work'"
      ]
     },
     "execution_count": 7,
     "metadata": {},
     "output_type": "execute_result"
    }
   ],
   "source": [
    "#Se verifica que los datos esten limpios\n",
    "data['review'][4]"
   ]
  },
  {
   "cell_type": "markdown",
   "id": "bd2ecc8a",
   "metadata": {},
   "source": [
    "### Tokenizar"
   ]
  },
  {
   "cell_type": "markdown",
   "id": "0fa4dc99",
   "metadata": {},
   "source": [
    "La tokenización sirve para encontrar y comprender patrones en el texto, el cual es útil para realizar el proceso de análisis de sentimiento. Este proceso es base para derivación y lematización del texto. Por tal motivo, en la siguiente línea de código se emplea el token y se configura las palabras vacías en el idioma en inglés."
   ]
  },
  {
   "cell_type": "code",
   "execution_count": 8,
   "id": "5d4f0ec6",
   "metadata": {},
   "outputs": [],
   "source": [
    "#Tokenización de texto\n",
    "tokenizer=ToktokTokenizer()\n",
    "#Configuración de palabras vacías en inglés\n",
    "stopword_list=nltk.corpus.stopwords.words('english')"
   ]
  },
  {
   "cell_type": "markdown",
   "id": "fd535ed0",
   "metadata": {},
   "source": [
    "### Stemming "
   ]
  },
  {
   "cell_type": "markdown",
   "id": "aec9e623",
   "metadata": {},
   "source": [
    "La implementación del Stemming se encarga de reducir las palabras a su raíz. Y es útil para asignar varias palabras a una palabra base en específico, esto no solo se hace con palabras, sino también con oraciones. Por tal motivo, en la siguiente línea de código se emplea Steamming en el texto.  "
   ]
  },
  {
   "cell_type": "code",
   "execution_count": 9,
   "id": "1555389a",
   "metadata": {},
   "outputs": [],
   "source": [
    "#Stemming del texto\n",
    "def simple_stemmer(text):\n",
    "    ps=nltk.porter.PorterStemmer()\n",
    "    text= ' '.join([ps.stem(word) for word in text.split()])\n",
    "    return text\n",
    "#Aplicar la función en la columna review \n",
    "data['review']=data['review'].apply(simple_stemmer)"
   ]
  },
  {
   "cell_type": "markdown",
   "id": "5a8f364d",
   "metadata": {},
   "source": [
    "### Eliminar palabras varias "
   ]
  },
  {
   "cell_type": "markdown",
   "id": "02f56589",
   "metadata": {},
   "source": [
    "Con el proceso de tokenización, se desarrolla una función que elimina todas las palabras vacias y se aplica el metodo en la columna review. "
   ]
  },
  {
   "cell_type": "code",
   "execution_count": 46,
   "id": "349e8a98",
   "metadata": {},
   "outputs": [
    {
     "name": "stdout",
     "output_type": "stream",
     "text": [
      "{'between', 'll', 'don', 'weren', \"aren't\", 'herself', 'is', 'in', 'further', 'been', 'having', 'did', 'to', 'during', 'their', 'they', 'should', 'he', 'her', \"don't\", \"haven't\", 'be', 'the', 'out', \"isn't\", \"weren't\", 'few', 'yours', 'do', \"it's\", \"didn't\", 'you', 'mustn', 'by', 'will', 'these', 'has', 'each', 'them', 'only', 'under', 'yourselves', 'just', 'than', 'against', 'because', 'there', 'ain', 'who', 'my', 'through', 'being', 'ours', 'an', 'of', 'about', 'again', \"shan't\", 'more', \"you'll\", 'does', 'theirs', 'some', 'can', 'most', 'but', \"mightn't\", 'all', 'mightn', 'over', 'y', 'couldn', 'hasn', 'isn', 'o', 'am', 'until', 'whom', 'as', 'themselves', 'off', \"you'd\", 'ourselves', 'aren', \"you're\", 'why', 'hadn', 'wasn', 'his', 'this', 'which', 'that', 'such', 'not', 'haven', 'here', 'on', \"won't\", \"she's\", 's', 'me', \"needn't\", 'and', 'itself', 'are', \"that'll\", 'at', 'now', 'while', 'nor', 'we', \"couldn't\", 'up', 'when', 'doing', 'your', 'below', 'our', 'won', 'wouldn', 'own', 'i', 'so', 'have', 'other', 'd', \"wasn't\", 'if', 'where', 'him', \"should've\", 'from', 'a', \"wouldn't\", 'had', 'once', 'what', 'were', 'or', 're', \"mustn't\", 'himself', \"hadn't\", 'before', 'ma', \"shouldn't\", 'too', 'same', \"you've\", \"doesn't\", 'needn', 'how', 'm', 'no', 'into', 'hers', 'doesn', 've', 'with', 'after', 'both', 'shan', 'then', 't', 'any', \"hasn't\", 'shouldn', 'down', 'myself', 'was', 'didn', 'its', 'it', 'she', 'yourself', 'above', 'those', 'for', 'very'}\n"
     ]
    }
   ],
   "source": [
    "#establecer palabras vacías en inglés\n",
    "stop=set(stopwords.words('english'))\n",
    "print(stop)\n",
    "\n",
    "#eliminando las palabras vacías \n",
    "def remove_stopwords(text, is_lower_case=False):\n",
    "    tokens = tokenizer.tokenize(text)\n",
    "    tokens = [token.strip() for token in tokens]\n",
    "    \n",
    "    if is_lower_case:\n",
    "        filtered_tokens = [token for token in tokens if token not in stopword_list]\n",
    "    else:\n",
    "        filtered_tokens = [token for token in tokens if token.lower() not in stopword_list]\n",
    "    filtered_text = ' '.join(filtered_tokens)    \n",
    "    return filtered_text\n",
    "\n",
    "#Aplicar la función \n",
    "data['review']=data['review'].apply(remove_stopwords)"
   ]
  },
  {
   "cell_type": "markdown",
   "id": "5f2086c0",
   "metadata": {},
   "source": [
    "### Normalización "
   ]
  },
  {
   "cell_type": "markdown",
   "id": "2d3457e7",
   "metadata": {},
   "source": [
    "Una vez terminado el proceso de limpieza de los datos, se emplea la normalización, es decir, estandariza todos los datos a un solo nive (palabras en minusculas) "
   ]
  },
  {
   "cell_type": "code",
   "execution_count": 11,
   "id": "031b6867",
   "metadata": {},
   "outputs": [
    {
     "data": {
      "text/plain": [
       "'one review ha mention watch 1 oz episod youll hook right thi exactli happen meth first thing struck oz wa brutal unflinch scene violenc set right word go trust thi show faint heart timid thi show pull punch regard drug sex violenc hardcor classic use wordit call oz nicknam given oswald maximum secur state penitentari focus mainli emerald citi experiment section prison cell glass front face inward privaci high agenda em citi home manyaryan muslim gangsta latino christian italian irish moreso scuffl death stare dodgi deal shadi agreement never far awayi would say main appeal show due fact goe show wouldnt dare forget pretti pictur paint mainstream audienc forget charm forget romanceoz doesnt mess around first episod ever saw struck nasti wa surreal couldnt say wa readi watch develop tast oz got accustom high level graphic violenc violenc injustic crook guard wholl sold nickel inmat wholl kill order get away well manner middl class inmat turn prison bitch due lack street skill prison experi watch oz may becom comfort uncomfort viewingthat get touch darker side'"
      ]
     },
     "execution_count": 11,
     "metadata": {},
     "output_type": "execute_result"
    }
   ],
   "source": [
    "\n",
    "#nornalizar los reviews \n",
    "norm_reviews=data.review\n",
    "norm_reviews[0]\n"
   ]
  },
  {
   "cell_type": "markdown",
   "id": "82312f60",
   "metadata": {},
   "source": [
    "### Modelo Bags of words\n"
   ]
  },
  {
   "cell_type": "markdown",
   "id": "5c79549b",
   "metadata": {},
   "source": [
    "Para realizar análisis de sentimiento se necesita crear una bolsa de palabras. El modelo Bag of Words es utilizado para representar los datos de prueba. Este método es empleado para PLN y IR. Para implementar este modelo se genera un vector de bolsas de palabras y después se hace un ajuste de los datos. "
   ]
  },
  {
   "cell_type": "code",
   "execution_count": 34,
   "id": "89a9cc59",
   "metadata": {},
   "outputs": [
    {
     "name": "stdout",
     "output_type": "stream",
     "text": [
      "BOW_cv_train: (50000, 7528779)\n"
     ]
    }
   ],
   "source": [
    "#Contar vectorizador para bolsa de palabras\n",
    "cv=CountVectorizer(min_df=0,max_df=1,binary=False,ngram_range=(1,3))\n",
    "\n",
    "#Transformar datos\n",
    "cv_reviews=cv.fit_transform(data.review)\n",
    "\n",
    "print('BOW_cv_train:',cv_reviews.shape)"
   ]
  },
  {
   "cell_type": "markdown",
   "id": "90694661",
   "metadata": {},
   "source": [
    "### Transformación del etiquetado a datos binarios "
   ]
  },
  {
   "cell_type": "markdown",
   "id": "077f7bdf",
   "metadata": {},
   "source": [
    "Una vez ya procesado los datos pertenecientes a la columna review, ahora solo falta la columna sentiment. En el caso de este dataset, la columna sentiment únicamente tiene dos valores: positive, negative. Y como tal, estos valores se los pueden convertir en números binarios, en donde el 0 representa a los negativos y el 1 a los positivos. La función LabelBinariser hace este proceso de binarización. "
   ]
  },
  {
   "cell_type": "code",
   "execution_count": 35,
   "id": "b9972712",
   "metadata": {},
   "outputs": [
    {
     "name": "stdout",
     "output_type": "stream",
     "text": [
      "(50000, 1)\n"
     ]
    }
   ],
   "source": [
    "#Función para convertir en binarios\n",
    "lb=LabelBinarizer()\n",
    "\n",
    "#transformación de los datos \n",
    "sentiment_data=lb.fit_transform(data['sentiment'])\n",
    "\n",
    "print(sentiment_data.shape)"
   ]
  },
  {
   "cell_type": "markdown",
   "id": "29658604",
   "metadata": {},
   "source": [
    "Ya terminada la limpieza y transformación de los datos, se procede a dividir el conjunto en datos de entrenamiento y datos para las pruebas. El conjunto de entrenamiento contiene 35 000 revisiones (70 % de los datos) destinadas al entrenamiento y el conjunto de prueba tiene 15 000 revisiones (30 % de los datos) para probar el clasificador."
   ]
  },
  {
   "cell_type": "markdown",
   "id": "1d5c917d",
   "metadata": {},
   "source": [
    "### Dividir el conjunto"
   ]
  },
  {
   "cell_type": "code",
   "execution_count": 47,
   "id": "7923daf7",
   "metadata": {},
   "outputs": [],
   "source": [
    "#Dividir el dataset en datos de entrenamiento y prueba \n",
    "X_train_reviews = cv_reviews[:35000]\n",
    "Y_train_sentiments = sentiment_data[:35000]\n",
    "\n",
    "X_test_reviews = cv_reviews[35000:]\n",
    "Y_test_sentiments = sentiment_data[35000:]\n"
   ]
  },
  {
   "cell_type": "markdown",
   "id": "693ca627",
   "metadata": {},
   "source": [
    "El proceso de clasificación de características no se lo realiza porque el dataset solamente tiene una sola característica."
   ]
  }
 ],
 "metadata": {
  "kernelspec": {
   "display_name": "Python 3 (ipykernel)",
   "language": "python",
   "name": "python3"
  },
  "language_info": {
   "codemirror_mode": {
    "name": "ipython",
    "version": 3
   },
   "file_extension": ".py",
   "mimetype": "text/x-python",
   "name": "python",
   "nbconvert_exporter": "python",
   "pygments_lexer": "ipython3",
   "version": "3.10.0"
  }
 },
 "nbformat": 4,
 "nbformat_minor": 5
}
